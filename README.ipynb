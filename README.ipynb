{
 "cells": [
  {
   "cell_type": "markdown",
   "metadata": {
    "vscode": {
     "languageId": "plaintext"
    }
   },
   "source": [
    "<!-- LOGOTIPO DO PROJETO -->\n",
    "<div style=\"display: flex; justify-content: center;\">\n",
    "   <a href=\"https://github.com/edendenis/git\">\n",
    "     <img src=\"figures/gold_edf_technology_logo_transparent_background_and_gold_name.png\" alt=\"Logo\" width=\"160\" height=\"160\">\n",
    "   </a>\n",
    "</div>\n",
    "\n",
    "<h3 align=\"center\">Configurar/Instalar/Usar o `GitHub Command Line Interface (GitHub CLI)` e descrição dos seus principais comandos</h3>\n",
    "\n",
    "<!-- <div style=\"display: flex; justify-content: center;\">\n",
    "  <a href=\"https://zenodo.org/doi/10.5281/zenodo.10668919\">\n",
    "    <img src=\"https://zenodo.org/badge/758237447.svg\" alt=\"DOI\">\n",
    "  </a>\n",
    "</div> -->\n",
    "\n",
    "<p align=\"center\">\n",
    " Neste documento estão contidos os principais comandos para configurar/instalar/usar o `GitHub Command Line Interface (GitHub CLI)`.\n",
    " <br />\n",
    " <a href=\"https://github.com/edendenis/git\"><strong>Explore os documentos »</strong></a>\n",
    " <br />\n",
    " <br />\n",
    " <a href=\"https://github.com/edendenis/git\">Ver demonstração</a>\n",
    " ·\n",
    " <a href=\"https://github.com/edendenis/git\">Relatar bug</a>\n",
    " ·\n",
    " <a href=\"https://github.com/edendenis/git\">Solicitar recurso</a>\n",
    "</p>\n"
   ]
  },
  {
   "cell_type": "markdown",
   "metadata": {},
   "source": [
    "# Configurar/Instalar/Usar o `GitHub Command Line Interface (GitHub CLI)` e descrição dos seus principais comandos\n",
    "\n",
    "## Resumo\n",
    "\n",
    "Neste documento estão contidos os principais comandos para configurar/instalar/usar o `GitHub Command Line Interface (GitHub CLI)`.\n",
    "\n",
    "## _Abstract_\n",
    "\n",
    "_This document contains the main commands for configuring/installing/using the `GitHub Command Line Interface (GitHub CLI)`._\n"
   ]
  },
  {
   "cell_type": "markdown",
   "metadata": {},
   "source": [
    "## Descrição [2]\n",
    "\n",
    "### `Git`\n",
    "\n",
    "O `Git` é um sistema de controle de versão distribuído amplamente utilizado para rastrear e gerenciar o código-fonte de projetos de desenvolvimento de software. Desenvolvido por Linus Torvalds, o criador do `Linux`, o `Git` é conhecido por sua eficiência, flexibilidade e capacidade de trabalhar tanto em projetos individuais quanto em equipes de desenvolvimento. Ele permite que os desenvolvedores acompanhem as alterações feitas no código, revertam para versões anteriores, colaborem em projetos e gerenciem conflitos de maneira eficaz. O `Git` também é suportado por várias plataformas de hospedagem de código, como o GitHub, o GitLab e o Bitbucket, o que o torna uma escolha central para o desenvolvimento colaborativo e a gestão de código-fonte em projetos de software.\n",
    "\n",
    "### `GitHub Command Line Interface (GitHub CLI)`\n",
    "\n",
    "O `GitHub Command Line Interface (GitHub CLI)` é uma ferramenta de linha de comando que permite aos usuários interagir com o GitHub diretamente pelo terminal, facilitando o gerenciamento de repositórios e a execução de tarefas comuns sem a necessidade de usar a interface web. Com o GitHub CLI, os usuários podem clonar repositórios, criar e gerenciar pull requests, visualizar problemas, e até mesmo publicar projetos, tudo através de comandos simples. Essa interface é especialmente útil para desenvolvedores que preferem trabalhar no terminal e desejam integrar suas operações no GitHub ao fluxo de trabalho de linha de comando, tornando o processo mais eficiente e produtivo."
   ]
  },
  {
   "cell_type": "markdown",
   "metadata": {},
   "source": [
    "## 1. Configurar/Instalar/usar o `Git` [1]\n",
    "\n",
    "## 1.1 Configurar/Instalar/usar o `Git` no `Linux Ubuntu`\n",
    "\n",
    "Para configurar/instalar/usar o `Git` no `Linux Ubuntu`, você pode seguir estas etapas:\n",
    "\n",
    "1. Abra o `Terminal Emulator`. Você pode fazer isso pressionando: `Ctrl + Alt + T`\n"
   ]
  },
  {
   "cell_type": "markdown",
   "metadata": {},
   "source": [
    "2. Certifique-se de que seu sistema esteja limpo e atualizado.\n",
    "\n",
    "    2.1 Limpar o `cache` do gerenciador de pacotes `apt`. Especificamente, ele remove todos os arquivos de pacotes (`.deb`) baixados pelo `apt` e armazenados em `/var/cache/apt/archives/`. Digite o seguinte comando: `sudo apt clean` \n",
    "    \n",
    "    2.2 Remover pacotes `.deb` antigos ou duplicados do cache local. É útil para liberar espaço, pois remove apenas os pacotes que não podem mais ser baixados (ou seja, versões antigas de pacotes que foram atualizados). Digite o seguinte comando: `sudo apt autoclean`\n",
    "\n",
    "    2.3 Remover pacotes que foram automaticamente instalados para satisfazer as dependências de outros pacotes e que não são mais necessários. Digite o seguinte comando: `sudo apt autoremove -y`\n",
    "\n",
    "    2.4 Buscar as atualizações disponíveis para os pacotes que estão instalados em seu sistema. Digite o seguinte comando e pressione `Enter`: `sudo apt update`\n",
    "\n",
    "    2.5 **Corrigir pacotes quebrados**: Isso atualizará a lista de pacotes disponíveis e tentará corrigir pacotes quebrados ou com dependências ausentes: `sudo apt --fix-broken install`\n",
    "\n",
    "    2.6 Limpar o `cache` do gerenciador de pacotes `apt`. Especificamente, ele remove todos os arquivos de pacotes (`.deb`) baixados pelo `apt` e armazenados em `/var/cache/apt/archives/`. Digite o seguinte comando: `sudo apt clean` \n",
    "    \n",
    "    2.7 Para ver a lista de pacotes a serem atualizados, digite o seguinte comando e pressione `Enter`:  `sudo apt list --upgradable`\n",
    "\n",
    "    2.8 Realmente atualizar os pacotes instalados para as suas versões mais recentes, com base na última vez que você executou `sudo apt update`. Digite o seguinte comando e pressione `Enter`: `sudo apt full-upgrade -y`\n",
    "    "
   ]
  },
  {
   "cell_type": "markdown",
   "metadata": {
    "vscode": {
     "languageId": "plaintext"
    }
   },
   "source": [
    "Para instalar o `GitHub CLI` no `Linux Ubuntu` pelo `Terminal Emulator`, você pode seguir os seguintes passos:\n",
    "\n",
    "1. Abra o `Terminal Emulator`.\n",
    "\n",
    "2. **Adicione o repositório do GitHub CLI**: Execute o seguinte comando para adicionar o repositório oficial do GitHub CLI:\n",
    "\n",
    "    ```\n",
    "    sudo apt-add-repository -y ppa:git-core/ppa\n",
    "    ```\n",
    "\n",
    "3. **Atualize a lista de pacotes**: Após adicionar o repositório, atualize a lista de pacotes com o comando:\n",
    "\n",
    "    ```\n",
    "    sudo apt update\n",
    "    ```\n",
    "\n",
    "4. **Instale o GitHub CLI**: Agora, você pode instalar o GitHub CLI usando o comando:\n",
    "\n",
    "    ```\n",
    "    sudo apt install gh -y\n",
    "    ```\n",
    "\n",
    "5. **Verifique a instalação**: Para garantir que o GitHub CLI foi instalado corretamente, você pode verificar a versão instalada com o comando:\n",
    "\n",
    "    ```\n",
    "    gh --version\n",
    "    ```\n",
    "\n",
    "Se tudo estiver correto, você verá a versão do GitHub CLI instalada em seu sistema. Agora você pode começar a usar o gh para interagir com seus repositórios do GitHub diretamente do terminal!"
   ]
  },
  {
   "cell_type": "markdown",
   "metadata": {},
   "source": [
    "### 2. Autenticar no GitHub para usar o `GitHub CLI`\n",
    "\n",
    "1. Digite o seguinte comando para iniciar o processo de autenticação:\n",
    "\n",
    "    ```\n",
    "    gh auth login\n",
    "    ```\n",
    "\n",
    "2. **Escolha a Conta e o Protocolo**: Responda às perguntas que aparecem no `Terminal Emulator`:\n",
    "\n",
    "    2.1 Conta: Selecione `GitHub.com`.\n",
    "\n",
    "    2.2 Protocolo preferido para operações Git: `Escolha SSH`.\n",
    "\n",
    "3. **Envie sua Chave Pública SSH**: O `Terminal Emulator` perguntará se você deseja enviar sua chave pública SSH para sua conta do `GitHub`. O caminho padrão geralmente é:\n",
    "\n",
    "    ```\n",
    "    /home/seu_usuario/.ssh/id_rsa.pub\n",
    "    ```\n",
    "\n",
    "4. **Autenticação com navegador**:\n",
    "\n",
    "    4.1 O `GitHub CLI` solicitará como você deseja se autenticar. Selecione a opção para fazer _login_ com um navegador.\n",
    "\n",
    "    4.2 Você verá um código de autenticação de uso único, por exemplo:\n",
    "\n",
    "    ```\n",
    "    First copy your one-time code: 4050-A33D\n",
    "    ```\n",
    "\n",
    "5. **Abra o navegador**: Pressione `Enter` para abrir o `GitHub` em seu navegador padrão. Você será redirecionado para uma página de autenticação.\n",
    "\n",
    "6. **Complete a autenticação**:\n",
    "\n",
    "    6.1 Cole o código que você copiou anteriormente na página do `GitHub` e conclua o processo de autenticação.\n",
    "\n",
    "    6.2 Após autenticar, volte ao terminal e pressione Enter para continuar.\n",
    "\n",
    "7. Configure o Protocolo Git: O `GitHub CLI` deve configurar automaticamente o protocolo Git. Você verá uma mensagem de confirmação:\n",
    "\n",
    "    ```\n",
    "    ✓ Configured git protocol\n",
    "    ```\n",
    "\n",
    "8. **Erros Possíveis**: Se aparecer um erro como `HTTP 422: Validation Failed`, isso pode indicar que a chave SSH já está em uso. Nesse caso, verifique se a chave pública já está adicionada à sua conta do `GitHub`.\n",
    "\n",
    "Agora, você deve ter criado um repositório no `GitHub` e autenticado sua conta com sucesso usando o `GitHub CLI`! Se tiver alguma dúvida ou se algo não funcionar como esperado, sinta-se à vontade para perguntar.\n"
   ]
  },
  {
   "cell_type": "markdown",
   "metadata": {
    "vscode": {
     "languageId": "plaintext"
    }
   },
   "source": [
    "## 3 Criar repositório e enviar os arquivos e pastas\n",
    "\n",
    "### 3.1 Comandos pelo `Git Hub CLI (Command Line Interface, CLI)` do `gh`\n",
    "\n",
    "1. Entrar na pasta do repositório que será enviado para o `Git`: `cd <nome_do_repositorio>`\n",
    "\n",
    "    Substitua `<nome_do_repositorio>` pelo nome que você deseja.\n",
    "\n",
    "2. Caso **NÃO** possua arquivo `README.md` já escrito e deseja adicionar um arquivo, execute o comando a seguir: `echo \" <nome_do_repositorio>\" >> README.md`\n",
    "\n",
    "    Substitua `<nome_do_repositorio>` pelo nome que você deseja.\n",
    "\n",
    "3. **Inicializa um novo repositório `Git` no diretório atual**: `git init`\n",
    "\n",
    "4. **Criar o repositório**: Com o `GitHub CLI`, você pode criar um novo repositório usando: `gh repo create <nome-do-repositorio> --private`\n",
    "\n",
    "    Substitua `<nome-do-repositorio>` pelo nome que você deseja e use `--public` ou `--private` para definir a visibilidade do repositório.\n",
    "\n",
    "5. **Verificar as _branches_ locais**: Primeiro, verifique quais _branches_ existem no seu repositório local usando o comando `git branch`: `git branch`\n",
    "\n",
    "    Isso lista todas as _branches_ locais.\n",
    "    \n",
    "6. Certifique-se de que a `branch` `\"main\"` exista. Se não existir ou se não existir nenhuma, você pode criá-la a partir da `branch` atual ou mudar para ela usando: `git branch -M main`\n",
    "\n",
    "    Isso cria uma nova `branch` `\"main\"` baseada na `branch` atual.\n",
    "\n",
    "7. **Atualizar a URL do Repositório Remoto**: Certifique-se de que a URL do seu repositório remoto esteja configurada para usar SSH:\n",
    "\n",
    "    ```\n",
    "    git remote set-url add origin git@github.com:edendenis/<nome-do-repositorio>.git\n",
    "    ```\n",
    "\n",
    "8. **Adicionar um novo repositório remoto chamado `origin` ao seu repositório `Git` local**: O `origin` é o nome padrão usado para referir-se ao repositório remoto principal: `git add .`\n",
    "\n",
    "9. **Fazer um `commit`**: Após criar a `branch` `\"main\"`, você precisa fazer pelo menos um `commit` nela. Adicione arquivos, faça o `commit` e forneça uma mensagem de `commit`:\n",
    "\n",
    "    ```\n",
    "    git add .\n",
    "    git commit -m \"first commit within branch main\"\n",
    "    ```\n",
    "\n",
    "10. **Enviar seu repositório local para o `GitHub`**: Finalmente, envie seu repositório para o `GitHub`:\n",
    "\n",
    "    ```\n",
    "    git push -u origin main\n",
    "    ```\n",
    "\n",
    "Esses comandos permitem que você crie um repositório no `GitHub` e o gerencie completamente a partir da linha de comando.\n"
   ]
  },
  {
   "cell_type": "markdown",
   "metadata": {},
   "source": [
    "<!-- LICENÇA -->\n",
    "## Licença\n",
    "\n",
    "Distribuído sob a licença MIT. Consulte `LICENSE.txt` para obter mais informações.\n",
    "\n",
    "<p align=\"right\">(<a href=\"#readme-top\">voltar ao topo</a>)</p>"
   ]
  },
  {
   "cell_type": "markdown",
   "metadata": {},
   "source": [
    "<!-- ROTEIRO -->\n",
    "## Roteiro\n",
    "\n",
    "- [x] Adicionar registro de alterações\n",
    "\n",
    "- [x] Adicionar links de volta ao topo\n",
    "\n",
    "- [x] Adicionar modelos adicionais com exemplos\n",
    "\n",
    "- [x] Suporte multilíngue\n",
    "\n",
    "     - [ ] Espanhol\n",
    "\n",
    "     - [ ] Inglês\n",
    "\n",
    "     - [ ] Português\n",
    "\n",
    "     - [x] Português brasileiro \n",
    "\n",
    "Consulte os [problemas abertos](https://github.com/edendenis/google_chrome/issues) para obter uma lista completa dos recursos propostos (e problemas conhecidos).\n",
    "\n",
    "<p align=\"right\">(<a href=\"#readme-top\">voltar ao topo</a>)</p>\n"
   ]
  },
  {
   "cell_type": "markdown",
   "metadata": {},
   "source": [
    "<!-- CONTRIBUIÇÔES -->\n",
    "## Contribuições\n",
    "\n",
    "As contribuições são o que tornam a comunidade de código aberto um lugar incrível para aprender, inspirar e criar. Qualquer contribuição que você fizer será **muito apreciada**.\n",
    "\n",
    "Se você tiver uma sugestão que possa melhorar isso, bifurque o repositório e crie uma solicitação `pull`. Você também pode simplesmente abrir um problema com a _tag_ “aprimoramento”.\n",
    "\n",
    "Não se esqueça de dar uma estrela ao projeto! Obrigado novamente!\n",
    "\n",
    "1. Bifurque o projeto\n",
    "\n",
    "2. Crie sua ramificação de recursos (`git checkout -b feature/AmazingFeature`)\n",
    "\n",
    "3. Confirme suas alterações (`git commit -m 'Add some AmazingFeature'`)\n",
    "\n",
    "4. Envie para a filial (`git push origin feature/AmazingFeature`)\n",
    "\n",
    "5. Abra uma solicitação `pull`\n",
    "\n",
    "<p align=\"right\">(<a href=\"#readme-top\">voltar ao topo</a>)</p>\n"
   ]
  },
  {
   "cell_type": "markdown",
   "metadata": {},
   "source": [
    "<!-- ACKNOWLEDGMENTS -->\n",
    "## Agradecimentos\n",
    "\n",
    "* [Best README Template](https://github.com/othneildrew/Best-README-Template?tab=readme-ov-file)\n",
    "\n",
    "* [Choose an Open Source License](https://choosealicense.com)\n",
    "\n",
    "* [GitHub Emoji Cheat Sheet](https://www.webpagefx.com/tools/emoji-cheat-sheet)\n",
    "\n",
    "* [Malven's Flexbox Cheatsheet](https://flexbox.malven.co/)\n",
    "\n",
    "* [Malven's Grid Cheatsheet](https://grid.malven.co/)\n",
    "\n",
    "* [Img Shields](https://shields.io)\n",
    "\n",
    "* [GitHub Pages](https://pages.github.com)\n",
    "\n",
    "* [Font Awesome](https://fontawesome.com)\n",
    "\n",
    "* [React Icons](https://react-icons.github.io/react-icons/search)\n",
    "\n",
    "<p align=\"right\">(<a href=\"#readme-top\">voltar ao topo</a>)</p>\n"
   ]
  },
  {
   "cell_type": "markdown",
   "metadata": {
    "vscode": {
     "languageId": "plaintext"
    }
   },
   "source": [
    "## Referências\n",
    "\n",
    "[1] OPENAI. ***Instalação do github cli.*** Disponível em: <https://chatgpt.com/c/67042c07-816c-8002-8913-7c8cdbc167a9> (texto adaptado). ChatGPT. Acessado em: 07/10/2024 15:49.\n",
    "\n",
    "[2] OPENAI. ***Vs code: editor popular:*** Disponível em: <https://chat.openai.com/c/b640a25d-f8e3-4922-8a3b-ed74a2657e42> (texto adaptado). ChatGPT. Acessado em: 07/10/2024 15:49.\n",
    "\n"
   ]
  }
 ],
 "metadata": {
  "kernelspec": {
   "display_name": "Python 3",
   "language": "python",
   "name": "python3"
  },
  "language_info": {
   "codemirror_mode": {
    "name": "ipython",
    "version": 3
   },
   "file_extension": ".py",
   "mimetype": "text/x-python",
   "name": "python",
   "nbconvert_exporter": "python",
   "pygments_lexer": "ipython3",
   "version": "3.8.10"
  },
  "orig_nbformat": 4
 },
 "nbformat": 4,
 "nbformat_minor": 2
}
